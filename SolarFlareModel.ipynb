{
 "cells": [
  {
   "cell_type": "markdown",
   "id": "722716fd",
   "metadata": {},
   "source": [
    "# 1. Import Libraries"
   ]
  },
  {
   "cell_type": "code",
   "execution_count": 31,
   "id": "02c29def",
   "metadata": {},
   "outputs": [],
   "source": [
    "# 1. Import Libraries\n",
    "import pandas as pd\n",
    "import numpy as np\n",
    "import tensorflow as tf\n",
    "from sklearn.model_selection import train_test_split\n",
    "from sklearn.preprocessing import OneHotEncoder, LabelEncoder\n",
    "from sklearn.compose import ColumnTransformer\n",
    "from tensorflow.keras.utils import to_categorical\n",
    "import time\n",
    "import sys"
   ]
  },
  {
   "cell_type": "markdown",
   "id": "5da6783c",
   "metadata": {},
   "source": [
    "# 2. Load the dataset"
   ]
  },
  {
   "cell_type": "code",
   "execution_count": 32,
   "id": "3945082c",
   "metadata": {},
   "outputs": [
    {
     "name": "stdout",
     "output_type": "stream",
     "text": [
      "  modified Zurich class largest spot size spot distribution  activity  \\\n",
      "0                     C                 S                 O         1   \n",
      "1                     D                 S                 O         1   \n",
      "2                     C                 S                 O         1   \n",
      "3                     D                 S                 O         1   \n",
      "4                     D                 A                 O         1   \n",
      "\n",
      "   evolution  previous 24 hour flare activity  historically-complex  \\\n",
      "0          2                                1                     1   \n",
      "1          3                                1                     1   \n",
      "2          3                                1                     1   \n",
      "3          3                                1                     1   \n",
      "4          3                                1                     1   \n",
      "\n",
      "   became complex on this pass  area  area of largest spot  common flares  \\\n",
      "0                            2     1                     2              0   \n",
      "1                            2     1                     2              0   \n",
      "2                            2     1                     1              0   \n",
      "3                            2     1                     2              0   \n",
      "4                            2     1                     2              0   \n",
      "\n",
      "   moderate flares  severe flares  \n",
      "0                0              0  \n",
      "1                0              0  \n",
      "2                0              0  \n",
      "3                0              0  \n",
      "4                0              0  \n"
     ]
    }
   ],
   "source": [
    "df = pd.read_csv(\"solar_flare_data.csv\")\n",
    "\n",
    "# Check the first few rows\n",
    "print(df.head())"
   ]
  },
  {
   "cell_type": "code",
   "execution_count": 33,
   "id": "24d3236f",
   "metadata": {},
   "outputs": [],
   "source": [
    "# 2. Define the columns\n",
    "categorical_cols = ['modified Zurich class', 'largest spot size', 'spot distribution']\n",
    "ordinal_cols = ['activity', 'evolution', 'previous 24 hour flare activity',\n",
    "                'historically-complex', 'became complex on this pass', 'area', 'area of largest spot']"
   ]
  },
  {
   "cell_type": "markdown",
   "id": "e244a5d9",
   "metadata": {},
   "source": [
    "# 3. Preprocess the data"
   ]
  },
  {
   "cell_type": "code",
   "execution_count": 34,
   "id": "a0c25c42",
   "metadata": {},
   "outputs": [],
   "source": [
    "# Apply One-Hot Encoding to the categorical columns\n",
    "preprocessor = ColumnTransformer(\n",
    "    transformers=[('cat', OneHotEncoder(), categorical_cols)],\n",
    "    remainder='passthrough'  # Keep other columns unchanged\n",
    ")\n",
    "\n",
    "# Apply Label Encoding to the ordinal columns\n",
    "label_encoders = {col: LabelEncoder() for col in ordinal_cols}\n",
    "\n",
    "# Separate features (X) and target variables (y)\n",
    "X = df.drop(columns=['common flares', 'moderate flares', 'severe flares'])  # Features\n",
    "y = df[['common flares', 'moderate flares', 'severe flares']]  # Target variables\n",
    "\n",
    "# Label encode the ordinal columns\n",
    "for col in ordinal_cols:\n",
    "    X[col] = label_encoders[col].fit_transform(X[col])\n",
    "\n",
    "# Apply the column transformer to the feature data (One-Hot Encoding for categorical columns)\n",
    "X_encoded = preprocessor.fit_transform(X)\n",
    "\n",
    "# Convert the target into a single class label\n",
    "# Convert the classes into 0 (C-class), 1 (M-class), and 2 (X-class)\n",
    "y_class = y.idxmax(axis=1).map({'common flares': 0, 'moderate flares': 1, 'severe flares': 2})"
   ]
  },
  {
   "cell_type": "markdown",
   "id": "edb7b680",
   "metadata": {},
   "source": [
    "# 4. Split the data into training and validation sets"
   ]
  },
  {
   "cell_type": "code",
   "execution_count": 35,
   "id": "7d1fb482",
   "metadata": {},
   "outputs": [],
   "source": [
    "X_train, X_val, y_train, y_val = train_test_split(X_encoded, y_class, test_size=0.2, random_state=42)"
   ]
  },
  {
   "cell_type": "markdown",
   "id": "42464387",
   "metadata": {},
   "source": [
    "# 5. Model Configuration"
   ]
  },
  {
   "cell_type": "code",
   "execution_count": 36,
   "id": "0c89c0aa",
   "metadata": {},
   "outputs": [],
   "source": [
    "DENSE1_SIZE = 16\n",
    "DENSE2_SIZE = 8\n",
    "DENSE3_SIZE = 4\n",
    "NUM_OF_EPOCHS = 100\n",
    "BATCH_SIZE = 16"
   ]
  },
  {
   "cell_type": "markdown",
   "id": "29f8e07a",
   "metadata": {},
   "source": [
    "# 6. Build the Model"
   ]
  },
  {
   "cell_type": "code",
   "execution_count": 37,
   "id": "91ce0c34",
   "metadata": {},
   "outputs": [],
   "source": [
    "model = tf.keras.Sequential()\n",
    "\n",
    "# Flatten the input data\n",
    "model.add(tf.keras.layers.Flatten(input_shape=(X_train.shape[1],)))\n",
    "\n",
    "# Add hidden layers with ReLU activation\n",
    "model.add(tf.keras.layers.Dense(DENSE1_SIZE, activation='relu'))\n",
    "model.add(tf.keras.layers.Dense(DENSE2_SIZE, activation='relu'))\n",
    "model.add(tf.keras.layers.Dense(DENSE3_SIZE, activation='relu'))\n",
    "\n",
    "# Output layer with softmax activation for multi-class classification\n",
    "model.add(tf.keras.layers.Dense(3, activation='softmax'))  # 3 units for 3 classes"
   ]
  },
  {
   "cell_type": "markdown",
   "id": "78862b5a",
   "metadata": {},
   "source": [
    "# 7. Compile the model"
   ]
  },
  {
   "cell_type": "code",
   "execution_count": 38,
   "id": "e96b8aa6",
   "metadata": {},
   "outputs": [],
   "source": [
    "model.compile(optimizer='adam', loss='sparse_categorical_crossentropy', metrics=['accuracy'])"
   ]
  },
  {
   "cell_type": "markdown",
   "id": "78833263",
   "metadata": {},
   "source": [
    "# 8. Train the model"
   ]
  },
  {
   "cell_type": "code",
   "execution_count": 39,
   "id": "e3b58acf",
   "metadata": {},
   "outputs": [
    {
     "name": "stdout",
     "output_type": "stream",
     "text": [
      "Epoch 1/100\n",
      "70/70 [==============================] - 1s 7ms/step - loss: 0.6202 - accuracy: 0.9658 - val_loss: 0.2796 - val_accuracy: 0.9676\n",
      "Epoch 2/100\n",
      "70/70 [==============================] - 0s 4ms/step - loss: 0.2029 - accuracy: 0.9667 - val_loss: 0.1707 - val_accuracy: 0.9676\n",
      "Epoch 3/100\n",
      "70/70 [==============================] - 0s 4ms/step - loss: 0.1656 - accuracy: 0.9667 - val_loss: 0.1535 - val_accuracy: 0.9676\n",
      "Epoch 4/100\n",
      "70/70 [==============================] - 0s 4ms/step - loss: 0.1528 - accuracy: 0.9667 - val_loss: 0.1419 - val_accuracy: 0.9676\n",
      "Epoch 5/100\n",
      "70/70 [==============================] - 0s 4ms/step - loss: 0.1451 - accuracy: 0.9667 - val_loss: 0.1355 - val_accuracy: 0.9676\n",
      "Epoch 6/100\n",
      "70/70 [==============================] - 0s 4ms/step - loss: 0.1395 - accuracy: 0.9667 - val_loss: 0.1321 - val_accuracy: 0.9676\n",
      "Epoch 7/100\n",
      "70/70 [==============================] - 0s 3ms/step - loss: 0.1377 - accuracy: 0.9667 - val_loss: 0.1306 - val_accuracy: 0.9676\n",
      "Epoch 8/100\n",
      "70/70 [==============================] - 0s 4ms/step - loss: 0.1347 - accuracy: 0.9667 - val_loss: 0.1282 - val_accuracy: 0.9676\n",
      "Epoch 9/100\n",
      "70/70 [==============================] - 0s 4ms/step - loss: 0.1325 - accuracy: 0.9667 - val_loss: 0.1280 - val_accuracy: 0.9676\n",
      "Epoch 10/100\n",
      "70/70 [==============================] - 0s 4ms/step - loss: 0.1299 - accuracy: 0.9667 - val_loss: 0.1287 - val_accuracy: 0.9676\n",
      "Epoch 11/100\n",
      "70/70 [==============================] - 0s 4ms/step - loss: 0.1281 - accuracy: 0.9667 - val_loss: 0.1288 - val_accuracy: 0.9676\n",
      "Epoch 12/100\n",
      "70/70 [==============================] - 0s 4ms/step - loss: 0.1272 - accuracy: 0.9667 - val_loss: 0.1289 - val_accuracy: 0.9676\n",
      "Epoch 13/100\n",
      "70/70 [==============================] - 0s 4ms/step - loss: 0.1260 - accuracy: 0.9667 - val_loss: 0.1313 - val_accuracy: 0.9676\n",
      "Epoch 14/100\n",
      "70/70 [==============================] - 0s 4ms/step - loss: 0.1248 - accuracy: 0.9667 - val_loss: 0.1296 - val_accuracy: 0.9676\n",
      "Epoch 15/100\n",
      "70/70 [==============================] - 0s 4ms/step - loss: 0.1242 - accuracy: 0.9667 - val_loss: 0.1307 - val_accuracy: 0.9676\n",
      "Epoch 16/100\n",
      "70/70 [==============================] - 0s 2ms/step - loss: 0.1231 - accuracy: 0.9667 - val_loss: 0.1315 - val_accuracy: 0.9676\n",
      "Epoch 17/100\n",
      "70/70 [==============================] - 0s 4ms/step - loss: 0.1221 - accuracy: 0.9667 - val_loss: 0.1305 - val_accuracy: 0.9676\n",
      "Epoch 18/100\n",
      "70/70 [==============================] - 0s 4ms/step - loss: 0.1208 - accuracy: 0.9667 - val_loss: 0.1308 - val_accuracy: 0.9676\n",
      "Epoch 19/100\n",
      "70/70 [==============================] - 0s 4ms/step - loss: 0.1216 - accuracy: 0.9667 - val_loss: 0.1307 - val_accuracy: 0.9676\n",
      "Epoch 20/100\n",
      "70/70 [==============================] - 0s 4ms/step - loss: 0.1194 - accuracy: 0.9667 - val_loss: 0.1318 - val_accuracy: 0.9676\n",
      "Epoch 21/100\n",
      "70/70 [==============================] - 0s 4ms/step - loss: 0.1202 - accuracy: 0.9667 - val_loss: 0.1323 - val_accuracy: 0.9676\n",
      "Epoch 22/100\n",
      "70/70 [==============================] - 0s 4ms/step - loss: 0.1191 - accuracy: 0.9667 - val_loss: 0.1312 - val_accuracy: 0.9676\n",
      "Epoch 23/100\n",
      "70/70 [==============================] - 0s 4ms/step - loss: 0.1173 - accuracy: 0.9667 - val_loss: 0.1321 - val_accuracy: 0.9676\n",
      "Epoch 24/100\n",
      "70/70 [==============================] - 0s 4ms/step - loss: 0.1164 - accuracy: 0.9667 - val_loss: 0.1313 - val_accuracy: 0.9676\n",
      "Epoch 25/100\n",
      "70/70 [==============================] - 0s 2ms/step - loss: 0.1170 - accuracy: 0.9667 - val_loss: 0.1307 - val_accuracy: 0.9676\n",
      "Epoch 26/100\n",
      "70/70 [==============================] - 0s 3ms/step - loss: 0.1156 - accuracy: 0.9667 - val_loss: 0.1306 - val_accuracy: 0.9676\n",
      "Epoch 27/100\n",
      "70/70 [==============================] - 0s 4ms/step - loss: 0.1139 - accuracy: 0.9667 - val_loss: 0.1306 - val_accuracy: 0.9676\n",
      "Epoch 28/100\n",
      "70/70 [==============================] - 0s 4ms/step - loss: 0.1139 - accuracy: 0.9667 - val_loss: 0.1323 - val_accuracy: 0.9676\n",
      "Epoch 29/100\n",
      "70/70 [==============================] - 0s 4ms/step - loss: 0.1135 - accuracy: 0.9667 - val_loss: 0.1299 - val_accuracy: 0.9676\n",
      "Epoch 30/100\n",
      "70/70 [==============================] - 0s 4ms/step - loss: 0.1125 - accuracy: 0.9667 - val_loss: 0.1300 - val_accuracy: 0.9676\n",
      "Epoch 31/100\n",
      "70/70 [==============================] - 0s 4ms/step - loss: 0.1115 - accuracy: 0.9667 - val_loss: 0.1297 - val_accuracy: 0.9676\n",
      "Epoch 32/100\n",
      "70/70 [==============================] - 0s 3ms/step - loss: 0.1112 - accuracy: 0.9667 - val_loss: 0.1295 - val_accuracy: 0.9676\n",
      "Epoch 33/100\n",
      "70/70 [==============================] - 0s 4ms/step - loss: 0.1111 - accuracy: 0.9667 - val_loss: 0.1302 - val_accuracy: 0.9676\n",
      "Epoch 34/100\n",
      "70/70 [==============================] - 0s 4ms/step - loss: 0.1097 - accuracy: 0.9667 - val_loss: 0.1311 - val_accuracy: 0.9676\n",
      "Epoch 35/100\n",
      "70/70 [==============================] - 0s 3ms/step - loss: 0.1094 - accuracy: 0.9667 - val_loss: 0.1314 - val_accuracy: 0.9676\n",
      "Epoch 36/100\n",
      "70/70 [==============================] - 0s 3ms/step - loss: 0.1086 - accuracy: 0.9667 - val_loss: 0.1334 - val_accuracy: 0.9676\n",
      "Epoch 37/100\n",
      "70/70 [==============================] - 0s 4ms/step - loss: 0.1084 - accuracy: 0.9667 - val_loss: 0.1335 - val_accuracy: 0.9676\n",
      "Epoch 38/100\n",
      "70/70 [==============================] - 0s 4ms/step - loss: 0.1082 - accuracy: 0.9667 - val_loss: 0.1334 - val_accuracy: 0.9676\n",
      "Epoch 39/100\n",
      "70/70 [==============================] - 0s 3ms/step - loss: 0.1077 - accuracy: 0.9667 - val_loss: 0.1326 - val_accuracy: 0.9676\n",
      "Epoch 40/100\n",
      "70/70 [==============================] - 0s 3ms/step - loss: 0.1059 - accuracy: 0.9667 - val_loss: 0.1370 - val_accuracy: 0.9676\n",
      "Epoch 41/100\n",
      "70/70 [==============================] - 0s 3ms/step - loss: 0.1054 - accuracy: 0.9667 - val_loss: 0.1369 - val_accuracy: 0.9676\n",
      "Epoch 42/100\n",
      "70/70 [==============================] - 0s 3ms/step - loss: 0.1049 - accuracy: 0.9667 - val_loss: 0.1387 - val_accuracy: 0.9676\n",
      "Epoch 43/100\n",
      "70/70 [==============================] - 0s 4ms/step - loss: 0.1047 - accuracy: 0.9667 - val_loss: 0.1404 - val_accuracy: 0.9676\n",
      "Epoch 44/100\n",
      "70/70 [==============================] - 0s 3ms/step - loss: 0.1048 - accuracy: 0.9667 - val_loss: 0.1396 - val_accuracy: 0.9676\n",
      "Epoch 45/100\n",
      "70/70 [==============================] - 0s 3ms/step - loss: 0.1027 - accuracy: 0.9667 - val_loss: 0.1421 - val_accuracy: 0.9676\n",
      "Epoch 46/100\n",
      "70/70 [==============================] - 0s 3ms/step - loss: 0.1018 - accuracy: 0.9667 - val_loss: 0.1449 - val_accuracy: 0.9676\n",
      "Epoch 47/100\n",
      "70/70 [==============================] - 0s 4ms/step - loss: 0.1017 - accuracy: 0.9667 - val_loss: 0.1463 - val_accuracy: 0.9676\n",
      "Epoch 48/100\n",
      "70/70 [==============================] - 0s 4ms/step - loss: 0.1010 - accuracy: 0.9667 - val_loss: 0.1444 - val_accuracy: 0.9676\n",
      "Epoch 49/100\n",
      "70/70 [==============================] - 0s 4ms/step - loss: 0.1021 - accuracy: 0.9667 - val_loss: 0.1455 - val_accuracy: 0.9676\n",
      "Epoch 50/100\n",
      "70/70 [==============================] - 0s 4ms/step - loss: 0.1013 - accuracy: 0.9667 - val_loss: 0.1462 - val_accuracy: 0.9676\n",
      "Epoch 51/100\n",
      "70/70 [==============================] - 0s 3ms/step - loss: 0.0987 - accuracy: 0.9667 - val_loss: 0.1497 - val_accuracy: 0.9676\n",
      "Epoch 52/100\n",
      "70/70 [==============================] - 0s 3ms/step - loss: 0.0987 - accuracy: 0.9667 - val_loss: 0.1494 - val_accuracy: 0.9676\n",
      "Epoch 53/100\n",
      "70/70 [==============================] - 0s 4ms/step - loss: 0.0998 - accuracy: 0.9667 - val_loss: 0.1477 - val_accuracy: 0.9676\n",
      "Epoch 54/100\n",
      "70/70 [==============================] - 0s 2ms/step - loss: 0.0982 - accuracy: 0.9667 - val_loss: 0.1497 - val_accuracy: 0.9676\n",
      "Epoch 55/100\n",
      "70/70 [==============================] - 0s 3ms/step - loss: 0.0976 - accuracy: 0.9667 - val_loss: 0.1507 - val_accuracy: 0.9676\n",
      "Epoch 56/100\n",
      "70/70 [==============================] - 0s 4ms/step - loss: 0.0991 - accuracy: 0.9667 - val_loss: 0.1500 - val_accuracy: 0.9676\n",
      "Epoch 57/100\n",
      "70/70 [==============================] - 0s 4ms/step - loss: 0.0963 - accuracy: 0.9667 - val_loss: 0.1590 - val_accuracy: 0.9676\n",
      "Epoch 58/100\n",
      "70/70 [==============================] - 0s 4ms/step - loss: 0.0969 - accuracy: 0.9667 - val_loss: 0.1545 - val_accuracy: 0.9676\n"
     ]
    },
    {
     "name": "stdout",
     "output_type": "stream",
     "text": [
      "Epoch 59/100\n",
      "70/70 [==============================] - 0s 4ms/step - loss: 0.0960 - accuracy: 0.9667 - val_loss: 0.1535 - val_accuracy: 0.9676\n",
      "Epoch 60/100\n",
      "70/70 [==============================] - 0s 4ms/step - loss: 0.0971 - accuracy: 0.9667 - val_loss: 0.1588 - val_accuracy: 0.9676\n",
      "Epoch 61/100\n",
      "70/70 [==============================] - 0s 4ms/step - loss: 0.0964 - accuracy: 0.9667 - val_loss: 0.1560 - val_accuracy: 0.9676\n",
      "Epoch 62/100\n",
      "70/70 [==============================] - 0s 4ms/step - loss: 0.0950 - accuracy: 0.9667 - val_loss: 0.1604 - val_accuracy: 0.9676\n",
      "Epoch 63/100\n",
      "70/70 [==============================] - 0s 3ms/step - loss: 0.0945 - accuracy: 0.9667 - val_loss: 0.1631 - val_accuracy: 0.9676\n",
      "Epoch 64/100\n",
      "70/70 [==============================] - 0s 3ms/step - loss: 0.0958 - accuracy: 0.9667 - val_loss: 0.1644 - val_accuracy: 0.9676\n",
      "Epoch 65/100\n",
      "70/70 [==============================] - 0s 4ms/step - loss: 0.0934 - accuracy: 0.9667 - val_loss: 0.1641 - val_accuracy: 0.9676\n",
      "Epoch 66/100\n",
      "70/70 [==============================] - 0s 4ms/step - loss: 0.0927 - accuracy: 0.9667 - val_loss: 0.1632 - val_accuracy: 0.9676\n",
      "Epoch 67/100\n",
      "70/70 [==============================] - 0s 4ms/step - loss: 0.0932 - accuracy: 0.9667 - val_loss: 0.1672 - val_accuracy: 0.9676\n",
      "Epoch 68/100\n",
      "70/70 [==============================] - 0s 3ms/step - loss: 0.0928 - accuracy: 0.9667 - val_loss: 0.1676 - val_accuracy: 0.9676\n",
      "Epoch 69/100\n",
      "70/70 [==============================] - 0s 4ms/step - loss: 0.0911 - accuracy: 0.9667 - val_loss: 0.1793 - val_accuracy: 0.9676\n",
      "Epoch 70/100\n",
      "70/70 [==============================] - 0s 4ms/step - loss: 0.0916 - accuracy: 0.9667 - val_loss: 0.1664 - val_accuracy: 0.9676\n",
      "Epoch 71/100\n",
      "70/70 [==============================] - 0s 4ms/step - loss: 0.0902 - accuracy: 0.9667 - val_loss: 0.1863 - val_accuracy: 0.9676\n",
      "Epoch 72/100\n",
      "70/70 [==============================] - 0s 4ms/step - loss: 0.0940 - accuracy: 0.9667 - val_loss: 0.1766 - val_accuracy: 0.9676\n",
      "Epoch 73/100\n",
      "70/70 [==============================] - 0s 3ms/step - loss: 0.0918 - accuracy: 0.9667 - val_loss: 0.1773 - val_accuracy: 0.9676\n",
      "Epoch 74/100\n",
      "70/70 [==============================] - 0s 4ms/step - loss: 0.0914 - accuracy: 0.9676 - val_loss: 0.1776 - val_accuracy: 0.9568\n",
      "Epoch 75/100\n",
      "70/70 [==============================] - 0s 4ms/step - loss: 0.0909 - accuracy: 0.9667 - val_loss: 0.1788 - val_accuracy: 0.9568\n",
      "Epoch 76/100\n",
      "70/70 [==============================] - 0s 4ms/step - loss: 0.0909 - accuracy: 0.9676 - val_loss: 0.1761 - val_accuracy: 0.9568\n",
      "Epoch 77/100\n",
      "70/70 [==============================] - 0s 3ms/step - loss: 0.0904 - accuracy: 0.9685 - val_loss: 0.1852 - val_accuracy: 0.9604\n",
      "Epoch 78/100\n",
      "70/70 [==============================] - 0s 3ms/step - loss: 0.0895 - accuracy: 0.9667 - val_loss: 0.1810 - val_accuracy: 0.9604\n",
      "Epoch 79/100\n",
      "70/70 [==============================] - 0s 4ms/step - loss: 0.0903 - accuracy: 0.9667 - val_loss: 0.1749 - val_accuracy: 0.9532\n",
      "Epoch 80/100\n",
      "70/70 [==============================] - 0s 3ms/step - loss: 0.0903 - accuracy: 0.9685 - val_loss: 0.1823 - val_accuracy: 0.9532\n",
      "Epoch 81/100\n",
      "70/70 [==============================] - 0s 4ms/step - loss: 0.0883 - accuracy: 0.9694 - val_loss: 0.1942 - val_accuracy: 0.9568\n",
      "Epoch 82/100\n",
      "70/70 [==============================] - 0s 4ms/step - loss: 0.0887 - accuracy: 0.9694 - val_loss: 0.1892 - val_accuracy: 0.9604\n",
      "Epoch 83/100\n",
      "70/70 [==============================] - 0s 3ms/step - loss: 0.0881 - accuracy: 0.9694 - val_loss: 0.1915 - val_accuracy: 0.9568\n",
      "Epoch 84/100\n",
      "70/70 [==============================] - 0s 4ms/step - loss: 0.0876 - accuracy: 0.9712 - val_loss: 0.2031 - val_accuracy: 0.9604\n",
      "Epoch 85/100\n",
      "70/70 [==============================] - 0s 4ms/step - loss: 0.0880 - accuracy: 0.9685 - val_loss: 0.2031 - val_accuracy: 0.9532\n",
      "Epoch 86/100\n",
      "70/70 [==============================] - 0s 4ms/step - loss: 0.0868 - accuracy: 0.9685 - val_loss: 0.1983 - val_accuracy: 0.9532\n",
      "Epoch 87/100\n",
      "70/70 [==============================] - 0s 3ms/step - loss: 0.0875 - accuracy: 0.9712 - val_loss: 0.2056 - val_accuracy: 0.9604\n",
      "Epoch 88/100\n",
      "70/70 [==============================] - 0s 4ms/step - loss: 0.0888 - accuracy: 0.9703 - val_loss: 0.1992 - val_accuracy: 0.9568\n",
      "Epoch 89/100\n",
      "70/70 [==============================] - 0s 4ms/step - loss: 0.0867 - accuracy: 0.9712 - val_loss: 0.2028 - val_accuracy: 0.9532\n",
      "Epoch 90/100\n",
      "70/70 [==============================] - 0s 3ms/step - loss: 0.0889 - accuracy: 0.9712 - val_loss: 0.2033 - val_accuracy: 0.9604\n",
      "Epoch 91/100\n",
      "70/70 [==============================] - 0s 4ms/step - loss: 0.0877 - accuracy: 0.9712 - val_loss: 0.2023 - val_accuracy: 0.9568\n",
      "Epoch 92/100\n",
      "70/70 [==============================] - 0s 2ms/step - loss: 0.0870 - accuracy: 0.9694 - val_loss: 0.2072 - val_accuracy: 0.9532\n",
      "Epoch 93/100\n",
      "70/70 [==============================] - 0s 4ms/step - loss: 0.0854 - accuracy: 0.9721 - val_loss: 0.2210 - val_accuracy: 0.9676\n",
      "Epoch 94/100\n",
      "70/70 [==============================] - 0s 4ms/step - loss: 0.0855 - accuracy: 0.9721 - val_loss: 0.2218 - val_accuracy: 0.9640\n",
      "Epoch 95/100\n",
      "70/70 [==============================] - 0s 3ms/step - loss: 0.0862 - accuracy: 0.9694 - val_loss: 0.2120 - val_accuracy: 0.9532\n",
      "Epoch 96/100\n",
      "70/70 [==============================] - 0s 4ms/step - loss: 0.0870 - accuracy: 0.9694 - val_loss: 0.2141 - val_accuracy: 0.9532\n",
      "Epoch 97/100\n",
      "70/70 [==============================] - 0s 4ms/step - loss: 0.0850 - accuracy: 0.9721 - val_loss: 0.2195 - val_accuracy: 0.9568\n",
      "Epoch 98/100\n",
      "70/70 [==============================] - 0s 4ms/step - loss: 0.0850 - accuracy: 0.9712 - val_loss: 0.2179 - val_accuracy: 0.9532\n",
      "Epoch 99/100\n",
      "70/70 [==============================] - 0s 4ms/step - loss: 0.0851 - accuracy: 0.9721 - val_loss: 0.2253 - val_accuracy: 0.9568\n",
      "Epoch 100/100\n",
      "70/70 [==============================] - 0s 3ms/step - loss: 0.0854 - accuracy: 0.9712 - val_loss: 0.2315 - val_accuracy: 0.9532\n"
     ]
    }
   ],
   "source": [
    "history = model.fit(X_train, y_train, batch_size=BATCH_SIZE, epochs=NUM_OF_EPOCHS, \n",
    "                    verbose=1, validation_data=(X_val, y_val))"
   ]
  },
  {
   "cell_type": "markdown",
   "id": "38c2a38e",
   "metadata": {},
   "source": [
    "# 8. Evaluate the Model"
   ]
  },
  {
   "cell_type": "code",
   "execution_count": 40,
   "id": "844b2bc5",
   "metadata": {},
   "outputs": [
    {
     "name": "stdout",
     "output_type": "stream",
     "text": [
      "Training Accuracy: 97.21%\n",
      "Validation Accuracy: 95.32%\n"
     ]
    }
   ],
   "source": [
    "train_loss, train_accuracy = model.evaluate(X_train, y_train, verbose=0)\n",
    "print(f\"Training Accuracy: {train_accuracy * 100:.2f}%\")\n",
    "\n",
    "val_loss, val_accuracy = model.evaluate(X_val, y_val, verbose=0)\n",
    "print(f\"Validation Accuracy: {val_accuracy * 100:.2f}%\")"
   ]
  },
  {
   "cell_type": "markdown",
   "id": "84c0191b",
   "metadata": {},
   "source": [
    "# 9. Model Conversion to TensorFlow Lite"
   ]
  },
  {
   "cell_type": "code",
   "execution_count": 41,
   "id": "ac2a2097",
   "metadata": {},
   "outputs": [
    {
     "name": "stdout",
     "output_type": "stream",
     "text": [
      "INFO:tensorflow:Assets written to: C:\\Users\\Rames\\AppData\\Local\\Temp\\tmplo26olqu\\assets\n"
     ]
    },
    {
     "name": "stderr",
     "output_type": "stream",
     "text": [
      "INFO:tensorflow:Assets written to: C:\\Users\\Rames\\AppData\\Local\\Temp\\tmplo26olqu\\assets\n"
     ]
    },
    {
     "name": "stdout",
     "output_type": "stream",
     "text": [
      "Model has been converted and saved as 'SolarFlareModel.tflite'.\n"
     ]
    }
   ],
   "source": [
    "# Convert the model to TensorFlow Lite\n",
    "converter = tf.lite.TFLiteConverter.from_keras_model(model)\n",
    "\n",
    "# Apply optimizations (optional)\n",
    "converter.optimizations = [tf.lite.Optimize.DEFAULT]\n",
    "\n",
    "# Representative dataset for quantization\n",
    "def representative_dataset():\n",
    "    for _ in range(100):\n",
    "        yield [X_train.astype(np.float32)]  # Use training data or any relevant subset\n",
    "\n",
    "converter.representative_dataset = representative_dataset\n",
    "\n",
    "# Convert the model\n",
    "tflite_model = converter.convert()\n",
    "\n",
    "# Save the converted model\n",
    "with open('SolarFlareModel.tflite', 'wb') as f:\n",
    "    f.write(tflite_model)\n",
    "\n",
    "print(\"Model has been converted and saved as 'SolarFlareModel.tflite'.\")"
   ]
  },
  {
   "cell_type": "markdown",
   "id": "091131bc",
   "metadata": {},
   "source": [
    "# 10. Save the Keras Model"
   ]
  },
  {
   "cell_type": "code",
   "execution_count": 42,
   "id": "f8c1007d",
   "metadata": {},
   "outputs": [
    {
     "name": "stdout",
     "output_type": "stream",
     "text": [
      "Keras model has been saved as 'SolarFlareModel.h5'.\n"
     ]
    }
   ],
   "source": [
    "model.save('SolarFlareModel.h5')\n",
    "print(\"Keras model has been saved as 'SolarFlareModel.h5'.\")"
   ]
  },
  {
   "cell_type": "markdown",
   "id": "d9773a38",
   "metadata": {},
   "source": [
    "# 11. Generate the C header file containing the model data"
   ]
  },
  {
   "cell_type": "code",
   "execution_count": 43,
   "id": "446a3d80",
   "metadata": {},
   "outputs": [
    {
     "name": "stdout",
     "output_type": "stream",
     "text": [
      "This model data was generated on: Sun Nov 10 13:21:38 2024\n",
      "Tools used: Python: 3.8.8 (default, Apr 13 2021, 15:08:03) [MSC v.1916 64 bit (AMD64)] \n",
      " Numpy: 1.20.1 \n",
      " TensorFlow: 2.3.0 \n",
      " Keras:  2.4.0 \n",
      "\n",
      "\n",
      "C header file has been generated and saved as solar_flare_model_esp32.h.\n"
     ]
    }
   ],
   "source": [
    "# Load the trained TFLite model from file \n",
    "tflite_model_path = 'SolarFlareModel.tflite'\n",
    "\n",
    "# Read the TFLite model as byte data\n",
    "with open(tflite_model_path, 'rb') as f:\n",
    "    tflite_model = f.read()\n",
    "\n",
    "# Function to convert some hex values into an array for C programming\n",
    "def hex_to_c_array(hex_data, var_name):\n",
    "    c_str = \"\"\n",
    "\n",
    "    # Create header guard\n",
    "    c_str += '#ifndef ' + var_name.upper() + '_H\\n'\n",
    "    c_str += \"#define \" + var_name.upper() + '_H\\n\\n'\n",
    "\n",
    "    c_str += \"/*\\n Author: DR \\n\"\n",
    "    c_str += \" CAUTION: This is an auto generated file.\\n DO NOT EDIT OR MAKE ANY CHANGES TO it.\\n\"\n",
    "\n",
    "    # Time stamping of this model data in the generated file\n",
    "    localtime = time.asctime(time.localtime(time.time()))\n",
    "    c_str += \" This model data was generated on \" + localtime + '\\n\\n'\n",
    "    print(\"This model data was generated on:\", localtime)\n",
    "\n",
    "    # Add information about the versions of tools and packages used in generating this header file\n",
    "    c_str += \" Tools used:\\n Python: \" + str(sys.version) + \"\\n Numpy: \" + str(np.version.version) + \\\n",
    "             \"\\n TensorFlow: \" + str(tf.__version__) + \"\\n Keras: \" + str(tf.keras.__version__) + \"\\n\\n\"\n",
    "    print(\"Tools used: Python:\", sys.version, \"\\n Numpy:\", np.version.version, \\\n",
    "          \"\\n TensorFlow:\", tf.__version__, \"\\n Keras: \", tf.keras.__version__, \"\\n\\n\")\n",
    "\n",
    "    # Training details of the model\n",
    "    c_str += ' Model details are:\\n'\n",
    "    c_str += ' NUM_OF_EPOCHS = ' + str(NUM_OF_EPOCHS) + '\\n'\n",
    "    c_str += ' BATCH_SIZE    = ' + str(BATCH_SIZE) + '\\n'\n",
    "    c_str += ' DENSE1_SIZE   = ' + str(DENSE1_SIZE) + '\\n'\n",
    "    c_str += ' DENSE2_SIZE   = ' + str(DENSE2_SIZE) + '\\n'\n",
    "    c_str += ' DENSE3_SIZE   = ' + str(DENSE3_SIZE) + '\\n*/\\n'\n",
    "    \n",
    "    # Generate 'C' constants for the number of nodes in each layer\n",
    "    c_str += '\\nconst int ' + 'DENSE1_SIZE' + ' = ' + str(DENSE1_SIZE) + ';\\n'\n",
    "    c_str += 'const int ' + 'DENSE2_SIZE' + ' = ' + str(DENSE2_SIZE) + ';\\n'      \n",
    "    c_str += 'const int ' + 'DENSE3_SIZE' + ' = ' + str(DENSE3_SIZE) + ';\\n'\n",
    "\n",
    "    # Add array length at the top of the file\n",
    "    c_str += '\\nconst unsigned int ' + var_name + '_len = ' + str(len(hex_data)) + ';\\n'\n",
    "\n",
    "    # Declare C variable\n",
    "    c_str += 'alignas(8) const unsigned char ' + var_name + '[] = {'\n",
    "    hex_array = []\n",
    "    for i, val in enumerate(hex_data):\n",
    "        # Construct string from hex\n",
    "        hex_str = format(val, '#04x')\n",
    "\n",
    "        # Add formatting so each line stays within 80 characters\n",
    "        if (i + 1) < len(hex_data):\n",
    "            hex_str += ','\n",
    "        if (i + 1) % 12 == 0:\n",
    "            hex_str += '\\n'\n",
    "        hex_array.append(hex_str)\n",
    "\n",
    "    # Add closing brace\n",
    "    c_str += '\\n' + format(''.join(hex_array)) + '\\n};\\n\\n'\n",
    "\n",
    "    # Close out header guard\n",
    "    c_str += '#endif //' + var_name.upper() + '_H'\n",
    "\n",
    "    return c_str\n",
    "\n",
    "header_file_path = \"solar_flare_model_esp32.h\"\n",
    "\n",
    "with open(header_file_path, 'w') as file:\n",
    "    file.write(hex_to_c_array(tflite_model, \"solar_flare_model_esp32\"))\n",
    "\n",
    "print(f\"C header file has been generated and saved as {header_file_path}.\")"
   ]
  },
  {
   "cell_type": "code",
   "execution_count": null,
   "id": "d86c0df3",
   "metadata": {},
   "outputs": [],
   "source": []
  }
 ],
 "metadata": {
  "kernelspec": {
   "display_name": "Python 3",
   "language": "python",
   "name": "python3"
  },
  "language_info": {
   "codemirror_mode": {
    "name": "ipython",
    "version": 3
   },
   "file_extension": ".py",
   "mimetype": "text/x-python",
   "name": "python",
   "nbconvert_exporter": "python",
   "pygments_lexer": "ipython3",
   "version": "3.8.8"
  }
 },
 "nbformat": 4,
 "nbformat_minor": 5
}
